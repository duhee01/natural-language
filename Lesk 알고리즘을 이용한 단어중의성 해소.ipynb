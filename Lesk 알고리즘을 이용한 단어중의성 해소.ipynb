{
 "cells": [
  {
   "cell_type": "markdown",
   "id": "b99e167c",
   "metadata": {},
   "source": [
    "# NLTK 패키지 다운로드"
   ]
  },
  {
   "cell_type": "code",
   "execution_count": 1,
   "id": "11a1229c",
   "metadata": {},
   "outputs": [
    {
     "name": "stdout",
     "output_type": "stream",
     "text": [
      "Requirement already satisfied: nltk==3.3 in c:\\users\\user\\anaconda3\\lib\\site-packages (3.3)\n",
      "Requirement already satisfied: six in c:\\users\\user\\anaconda3\\lib\\site-packages (from nltk==3.3) (1.15.0)\n",
      "Note: you may need to restart the kernel to use updated packages.\n"
     ]
    }
   ],
   "source": [
    "pip install nltk==3.3"
   ]
  },
  {
   "cell_type": "markdown",
   "id": "eee10c96",
   "metadata": {},
   "source": [
    "# wordenet 관련 패키지 nltk import"
   ]
  },
  {
   "cell_type": "code",
   "execution_count": 21,
   "id": "2690969f",
   "metadata": {},
   "outputs": [
    {
     "name": "stdout",
     "output_type": "stream",
     "text": [
      "[nltk_data] Downloading package wordnet to\n",
      "[nltk_data]     C:\\Users\\user\\AppData\\Roaming\\nltk_data...\n",
      "[nltk_data]   Package wordnet is already up-to-date!\n",
      "[nltk_data] Downloading package punkt to\n",
      "[nltk_data]     C:\\Users\\user\\AppData\\Roaming\\nltk_data...\n",
      "[nltk_data]   Package punkt is already up-to-date!\n",
      "[nltk_data] Downloading package stopwords to\n",
      "[nltk_data]     C:\\Users\\user\\AppData\\Roaming\\nltk_data...\n",
      "[nltk_data]   Package stopwords is already up-to-date!\n"
     ]
    }
   ],
   "source": [
    "import nltk\n",
    "nltk.download('wordnet')\n",
    "nltk.download('punkt')\n",
    "nltk.download('stopwords')\n",
    "from nltk.corpus import wordnet\n",
    "from nltk import word_tokenize\n",
    "from nltk.corpus import stopwords\n",
    "import sys"
   ]
  },
  {
   "cell_type": "markdown",
   "id": "2c492220",
   "metadata": {},
   "source": [
    "# best sentence 추출"
   ]
  },
  {
   "cell_type": "code",
   "execution_count": 22,
   "id": "749c9d78",
   "metadata": {},
   "outputs": [],
   "source": [
    "def disambiguate(word, sentence, stopwords):\n",
    "        # Best sense 를 얻기위한 Lesk 알고리즘을 작성해보세요.\n",
    "        \n",
    "        word_senses = wordnet.synsets(word)\n",
    "        best_sense = word_senses[0]  # Assume that first sense is most freq.\n",
    "        max_overlap = 0\n",
    "        context = set(word_tokenize(sentence))\n",
    "        for sense in word_senses:\n",
    "            signature = tokenized_gloss(sense)\n",
    "            overlap = compute_overlap(signature, context, stopwords)\n",
    "            if overlap > max_overlap:\n",
    "                max_overlap = overlap\n",
    "                best_sense = sense\n",
    "                \n",
    "        return best_sense"
   ]
  },
  {
   "cell_type": "markdown",
   "id": "c33b0707",
   "metadata": {},
   "source": [
    "# sense의 definition에 대한 모든 token 추출"
   ]
  },
  {
   "cell_type": "code",
   "execution_count": 23,
   "id": "241f2942",
   "metadata": {},
   "outputs": [],
   "source": [
    "def tokenized_gloss(sense):\n",
    "        tokens = set(word_tokenize(sense.definition()))\n",
    "        for example in sense.examples():\n",
    "            tokens.union(set(word_tokenize(example)))\n",
    "        return tokens"
   ]
  },
  {
   "cell_type": "markdown",
   "id": "55dba6f4",
   "metadata": {},
   "source": [
    "# 겹치는 단어 비교 "
   ]
  },
  {
   "cell_type": "code",
   "execution_count": 24,
   "id": "e815bbb7",
   "metadata": {},
   "outputs": [],
   "source": [
    "def compute_overlap(signature, context, stopwords):\n",
    "        gloss = signature.difference(stopwords)\n",
    "        return len(gloss.intersection(context))"
   ]
  },
  {
   "cell_type": "markdown",
   "id": "a784afe7",
   "metadata": {},
   "source": [
    "# Main 함수"
   ]
  },
  {
   "cell_type": "code",
   "execution_count": 25,
   "id": "9f3c24a7",
   "metadata": {},
   "outputs": [
    {
     "name": "stdout",
     "output_type": "stream",
     "text": [
      "Word : eat\n",
      "Sense : eat.v.02\n",
      "Definition : eat a meal; take a meal\n",
      "Sentence : They eat a meal\n",
      "{'meal', 'eat', 'take', ';', 'a'}\n",
      "2\n",
      "Best sense:  Synset('eat.v.02')\n"
     ]
    }
   ],
   "source": [
    "stopwords = set(stopwords.words('english'))# NLTK에서 지정한 영어 불용어 처리 ex) i, my, they...\n",
    "sentence = (\"They eat a meal\")\n",
    "context = set(word_tokenize(sentence))\n",
    "word = 'eat'\n",
    "\n",
    "print(\"Word :\", word)\n",
    "syn = wordnet.synsets('eat')[1]\n",
    "print(\"Sense :\", syn.name())\n",
    "print(\"Definition :\", syn.definition())\n",
    "print(\"Sentence :\", sentence)\n",
    "\n",
    "signature = tokenized_gloss(syn)\n",
    "print(signature)\n",
    "print(compute_overlap(signature, context, stopwords))\n",
    "print(\"Best sense: \", disambiguate(word, sentence, stopwords))\n"
   ]
  }
 ],
 "metadata": {
  "kernelspec": {
   "display_name": "Python 3",
   "language": "python",
   "name": "python3"
  },
  "language_info": {
   "codemirror_mode": {
    "name": "ipython",
    "version": 3
   },
   "file_extension": ".py",
   "mimetype": "text/x-python",
   "name": "python",
   "nbconvert_exporter": "python",
   "pygments_lexer": "ipython3",
   "version": "3.8.8"
  }
 },
 "nbformat": 4,
 "nbformat_minor": 5
}
