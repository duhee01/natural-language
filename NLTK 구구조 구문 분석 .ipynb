{
 "cells": [
  {
   "cell_type": "markdown",
   "id": "f81c1436",
   "metadata": {},
   "source": [
    "# NLTK 를 이용한 규칙기반 구구조 구문분석"
   ]
  },
  {
   "cell_type": "markdown",
   "id": "7e712cae",
   "metadata": {},
   "source": [
    "### 1. NLTK 패키지 다운로드"
   ]
  },
  {
   "cell_type": "code",
   "execution_count": null,
   "id": "19337246",
   "metadata": {},
   "outputs": [],
   "source": [
    "!pip install nltk==3.3"
   ]
  },
  {
   "cell_type": "code",
   "execution_count": 5,
   "id": "a7383907",
   "metadata": {},
   "outputs": [],
   "source": [
    "import nltk\n",
    "from nltk import CFG"
   ]
  },
  {
   "cell_type": "markdown",
   "id": "55b22c57",
   "metadata": {},
   "source": [
    "### 2. 구구조 구문 분석 규칙 작성"
   ]
  },
  {
   "cell_type": "code",
   "execution_count": 9,
   "id": "8d69696e",
   "metadata": {},
   "outputs": [],
   "source": [
    "grammar = CFG.fromstring(\"\"\"\n",
    "S -> NP VP\n",
    "NP -> NN XSN JK | NN JK\n",
    "VP -> NP VP | VV EP EF\n",
    "NN -> '아이' | '케이크'\n",
    "XSN -> '들'\n",
    "JK -> '이' | '를'\n",
    "VV -> '먹'\n",
    "EP -> '었'\n",
    "EF -> '다'\n",
    "\"\"\")\n",
    "parser = nltk.ChartParser(grammar)"
   ]
  },
  {
   "cell_type": "markdown",
   "id": "1a84fcd3",
   "metadata": {},
   "source": [
    "### 3. 규칙기반 구문 분석기 생성 및 구구조 구문 분석 수행"
   ]
  },
  {
   "cell_type": "code",
   "execution_count": 11,
   "id": "98e82b7d",
   "metadata": {},
   "outputs": [
    {
     "name": "stdout",
     "output_type": "stream",
     "text": [
      "(S\n",
      "  (NP (NN 아이) (XSN 들) (JK 이))\n",
      "  (VP (NP (NN 케이크) (JK 를)) (VP (VV 먹) (EP 었) (EF 다))))\n"
     ]
    }
   ],
   "source": [
    "sent = ['아이','들','이','케이크','를','먹','었','다']\n",
    "for tree in parser.parse(sent):\n",
    "    print(tree)"
   ]
  },
  {
   "cell_type": "code",
   "execution_count": null,
   "id": "407fd938",
   "metadata": {},
   "outputs": [],
   "source": []
  }
 ],
 "metadata": {
  "kernelspec": {
   "display_name": "Python 3",
   "language": "python",
   "name": "python3"
  },
  "language_info": {
   "codemirror_mode": {
    "name": "ipython",
    "version": 3
   },
   "file_extension": ".py",
   "mimetype": "text/x-python",
   "name": "python",
   "nbconvert_exporter": "python",
   "pygments_lexer": "ipython3",
   "version": "3.8.8"
  }
 },
 "nbformat": 4,
 "nbformat_minor": 5
}
