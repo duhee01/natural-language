{
 "cells": [
  {
   "cell_type": "code",
   "execution_count": 1,
   "id": "1c55f905",
   "metadata": {},
   "outputs": [
    {
     "name": "stdout",
     "output_type": "stream",
     "text": [
      "Collecting nltk==3.3\n",
      "  Downloading nltk-3.3.0.zip (1.4 MB)\n",
      "     ---------------------------------------- 1.4/1.4 MB 12.5 MB/s eta 0:00:00\n",
      "  Preparing metadata (setup.py): started\n",
      "  Preparing metadata (setup.py): finished with status 'done'\n",
      "Requirement already satisfied: six in c:\\users\\user\\anaconda3\\lib\\site-packages (from nltk==3.3) (1.15.0)\n",
      "Building wheels for collected packages: nltk\n",
      "  Building wheel for nltk (setup.py): started\n",
      "  Building wheel for nltk (setup.py): finished with status 'done'\n",
      "  Created wheel for nltk: filename=nltk-3.3-py3-none-any.whl size=1394468 sha256=d2c6b21537fedcd6d5ef56d0784e342e39900af4b76d9518c5c2d429ce8b1eb8\n",
      "  Stored in directory: c:\\users\\user\\appdata\\local\\pip\\cache\\wheels\\19\\1d\\3a\\0a8c14c30132b4f9ffd796efbb6746f15b3d6bcfc1055a9346\n",
      "Successfully built nltk\n",
      "Installing collected packages: nltk\n",
      "  Attempting uninstall: nltk\n",
      "    Found existing installation: nltk 3.6.1\n",
      "    Uninstalling nltk-3.6.1:\n",
      "      Successfully uninstalled nltk-3.6.1\n",
      "Successfully installed nltk-3.3\n"
     ]
    }
   ],
   "source": [
    "!pip install nltk==3.3"
   ]
  },
  {
   "cell_type": "code",
   "execution_count": 2,
   "id": "b5869c1a",
   "metadata": {},
   "outputs": [],
   "source": [
    "import nltk"
   ]
  },
  {
   "cell_type": "code",
   "execution_count": 15,
   "id": "59c7eb96",
   "metadata": {},
   "outputs": [
    {
     "ename": "SyntaxError",
     "evalue": "invalid syntax (<ipython-input-15-bfdd55891373>, line 2)",
     "output_type": "error",
     "traceback": [
      "\u001b[1;36m  File \u001b[1;32m\"<ipython-input-15-bfdd55891373>\"\u001b[1;36m, line \u001b[1;32m2\u001b[0m\n\u001b[1;33m    S -> NP VP\u001b[0m\n\u001b[1;37m      ^\u001b[0m\n\u001b[1;31mSyntaxError\u001b[0m\u001b[1;31m:\u001b[0m invalid syntax\n"
     ]
    }
   ],
   "source": [
    "grammar = nltk.CFG.fromstring(\n",
    "S -> NP VP\n",
    "NP -> NN XSN JK | NN JK\n",
    "VP -> NP VP | VV EP EF\n",
    "NN -> '아이' | '케이크'\n",
    "XSN-> '들'\n",
    "JK -> '이' | '를'\n",
    "VV -> '먹'\n",
    "EP -> '었'\n",
    "EF -> '다'\n",
    ")\n",
    "parser = nltk.ChartPatser(grammar)"
   ]
  },
  {
   "cell_type": "code",
   "execution_count": null,
   "id": "20f9cf5a",
   "metadata": {},
   "outputs": [],
   "source": []
  }
 ],
 "metadata": {
  "kernelspec": {
   "display_name": "Python 3",
   "language": "python",
   "name": "python3"
  },
  "language_info": {
   "codemirror_mode": {
    "name": "ipython",
    "version": 3
   },
   "file_extension": ".py",
   "mimetype": "text/x-python",
   "name": "python",
   "nbconvert_exporter": "python",
   "pygments_lexer": "ipython3",
   "version": "3.8.8"
  }
 },
 "nbformat": 4,
 "nbformat_minor": 5
}
