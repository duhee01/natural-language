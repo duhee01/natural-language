{
 "cells": [
  {
   "cell_type": "markdown",
   "id": "a3b011fe",
   "metadata": {},
   "source": [
    "#  KoNPLy를 이용한 형태소 분석"
   ]
  },
  {
   "cell_type": "code",
   "execution_count": 2,
   "id": "1d9685ef",
   "metadata": {},
   "outputs": [],
   "source": [
    "#konlpy 관련 패키지 import및 함수저장\n",
    "from konlpy.tag import Kkma\n",
    "from konlpy.tag import Okt\n",
    "from konlpy.tag import Hannanum\n",
    "from konlpy.tag import Komoran\n",
    "from konlpy.tag import Twitter"
   ]
  },
  {
   "cell_type": "code",
   "execution_count": 3,
   "id": "b9c32c9c",
   "metadata": {},
   "outputs": [
    {
     "name": "stdout",
     "output_type": "stream",
     "text": [
      "('64bit', 'WindowsPE')\n"
     ]
    }
   ],
   "source": [
    "import platform \n",
    "print(platform.architecture())"
   ]
  },
  {
   "cell_type": "code",
   "execution_count": 4,
   "id": "80a88a07",
   "metadata": {},
   "outputs": [
    {
     "name": "stderr",
     "output_type": "stream",
     "text": [
      "C:\\Users\\user\\anaconda3\\lib\\site-packages\\konlpy\\tag\\_okt.py:17: UserWarning: \"Twitter\" has changed to \"Okt\" since KoNLPy v0.4.5.\n",
      "  warn('\"Twitter\" has changed to \"Okt\" since KoNLPy v0.4.5.')\n"
     ]
    },
    {
     "name": "stdout",
     "output_type": "stream",
     "text": [
      "kkma 문장분리 :  ['네 안녕하세요', '반갑습니다.']\n"
     ]
    }
   ],
   "source": [
    "kkma = Kkma()\n",
    "okt = Okt()\n",
    "komoran = Komoran()\n",
    "hannanum = Hannanum()\n",
    "twitter = Twitter()\n",
    "\n",
    "print(\"kkma 문장분리 : \", kkma.sentences('네 안녕하세요 반갑습니다.'))"
   ]
  },
  {
   "cell_type": "code",
   "execution_count": 5,
   "id": "340d5afb",
   "metadata": {},
   "outputs": [
    {
     "name": "stdout",
     "output_type": "stream",
     "text": [
      "okt 형태소 분석 : ['집', '에', '가면', '감자', '좀', '쪄줄래', '?']\n",
      "kkma 형태소 분석 : ['집', '에', '가', '면', '감자', '좀', '찌', '어', '주', 'ㄹ래', '?']\n",
      "hannanum 형태소 분석 : ['집', '에', '가', '면', '감', '자', '좀', '찌', '어', '줄', '래', '?']\n",
      "komoran 형태소 분석 : ['집', '에', '가', '면', '감자', '좀', '찌', '어', '주', 'ㄹ래', '?']\n",
      "twitter 형태소 분석 : ['집', '에', '가면', '감자', '좀', '쪄줄래', '?']\n"
     ]
    }
   ],
   "source": [
    "print(\"okt 형태소 분석 :\", okt.morphs(\"집에 가면 감자 좀 쪄줄래?\"))\n",
    "print(\"kkma 형태소 분석 :\", kkma.morphs(\"집에 가면 감자 좀 쪄줄래?\"))                                     \n",
    "print(\"hannanum 형태소 분석 :\", hannanum.morphs(\"집에 가면 감자 좀 쪄줄래?\"))\n",
    "print(\"komoran 형태소 분석 :\", komoran.morphs(\"집에 가면 감자 좀 쪄줄래?\"))\n",
    "print(\"twitter 형태소 분석 :\", twitter.morphs(\"집에 가면 감자 좀 쪄줄래?\"))\n"
   ]
  },
  {
   "cell_type": "markdown",
   "id": "9944ea9b",
   "metadata": {},
   "source": [
    "# KoNPLy를 이용한 품사태깅"
   ]
  },
  {
   "cell_type": "markdown",
   "id": "46d46c63",
   "metadata": {},
   "source": [
    "품사 태깅이란 문서 또는 문장을 이루고 있는 각 단어에 정확한 하나의 품사를 부여하는 것을 말한다.\n",
    "ex) 나->명사(np), 는->보조사(jx).."
   ]
  },
  {
   "cell_type": "code",
   "execution_count": 6,
   "id": "9d17b87d",
   "metadata": {},
   "outputs": [
    {
     "name": "stdout",
     "output_type": "stream",
     "text": [
      "okt 형태소 분석 : [('집', 'Noun'), ('에', 'Josa'), ('가면', 'Noun'), ('감자', 'Noun'), ('좀', 'Noun'), ('쪄줄래', 'Verb'), ('?', 'Punctuation')]\n",
      "kkma 형태소 분석 : [('집', 'NNG'), ('에', 'JKM'), ('가', 'VV'), ('면', 'ECE'), ('감자', 'NNG'), ('좀', 'MAG'), ('찌', 'VV'), ('어', 'ECS'), ('주', 'VXV'), ('ㄹ래', 'EFQ'), ('?', 'SF')]\n",
      "hannanum 형태소 분석 : [('집', 'N'), ('에', 'J'), ('가', 'P'), ('면', 'E'), ('감', 'P'), ('자', 'E'), ('좀', 'M'), ('찌', 'P'), ('어', 'E'), ('줄', 'P'), ('래', 'E'), ('?', 'S')]\n",
      "komoran 형태소 분석 : [('집', 'NNG'), ('에', 'JKB'), ('가', 'VV'), ('면', 'EC'), ('감자', 'NNP'), ('좀', 'MAG'), ('찌', 'VV'), ('어', 'EC'), ('주', 'VX'), ('ㄹ래', 'EF'), ('?', 'SF')]\n",
      "twitter 형태소 분석 : [('집', 'Noun'), ('에', 'Josa'), ('가면', 'Noun'), ('감자', 'Noun'), ('좀', 'Noun'), ('쪄줄래', 'Verb'), ('?', 'Punctuation')]\n"
     ]
    }
   ],
   "source": [
    "print(\"okt 형태소 분석 :\", okt.pos(\"집에 가면 감자 좀 쪄줄래?\"))\n",
    "print(\"kkma 형태소 분석 :\", kkma.pos(\"집에 가면 감자 좀 쪄줄래?\"))                                     \n",
    "print(\"hannanum 형태소 분석 :\", hannanum.pos(\"집에 가면 감자 좀 쪄줄래?\"))\n",
    "print(\"komoran 형태소 분석 :\", komoran.pos(\"집에 가면 감자 좀 쪄줄래?\"))\n",
    "print(\"twitter 형태소 분석 :\", twitter.pos(\"집에 가면 감자 좀 쪄줄래?\"))"
   ]
  },
  {
   "cell_type": "code",
   "execution_count": null,
   "id": "b908fa3e",
   "metadata": {},
   "outputs": [],
   "source": []
  }
 ],
 "metadata": {
  "kernelspec": {
   "display_name": "Python 3",
   "language": "python",
   "name": "python3"
  },
  "language_info": {
   "codemirror_mode": {
    "name": "ipython",
    "version": 3
   },
   "file_extension": ".py",
   "mimetype": "text/x-python",
   "name": "python",
   "nbconvert_exporter": "python",
   "pygments_lexer": "ipython3",
   "version": "3.8.8"
  }
 },
 "nbformat": 4,
 "nbformat_minor": 5
}
