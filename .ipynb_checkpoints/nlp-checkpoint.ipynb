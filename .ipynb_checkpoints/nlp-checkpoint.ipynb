{
 "cells": [
  {
   "cell_type": "code",
   "execution_count": 1,
   "id": "1d9685ef",
   "metadata": {},
   "outputs": [],
   "source": [
    "#konlpy 관련 패키지 import및 함수저장\n",
    "from konlpy.tag import Kkma\n",
    "from konlpy.tag import Okt\n",
    "from konlpy.tag import Hannanum\n",
    "from konlpy.tag import Komoran\n",
    "from konlpy.tag import Twitter"
   ]
  },
  {
   "cell_type": "code",
   "execution_count": 2,
   "id": "b9c32c9c",
   "metadata": {},
   "outputs": [
    {
     "name": "stdout",
     "output_type": "stream",
     "text": [
      "('64bit', 'WindowsPE')\n"
     ]
    }
   ],
   "source": [
    "import platform \n",
    "print(platform.architecture())\n",
    "\n"
   ]
  },
  {
   "cell_type": "code",
   "execution_count": 4,
   "id": "80a88a07",
   "metadata": {},
   "outputs": [
    {
     "name": "stdout",
     "output_type": "stream",
     "text": [
      "kkma 문장분리 :  ['네 안녕하세요', '반갑습니다.']\n"
     ]
    }
   ],
   "source": [
    "kkma = Kkma()\n",
    "okt = Okt()\n",
    "komoran = Komoran()\n",
    "hannanum = Hannanum()\n",
    "twitter = Twitter()\n",
    "\n",
    "print(\"kkma 문장분리 : \", kkma.sentences('네 안녕하세요 반갑습니다.'))"
   ]
  },
  {
   "cell_type": "code",
   "execution_count": 8,
   "id": "340d5afb",
   "metadata": {},
   "outputs": [
    {
     "name": "stdout",
     "output_type": "stream",
     "text": [
      "okt 형태소 분석 : ['집', '에', '가면', '감자', '좀', '쪄줄래', '?']\n",
      "kkma 형태소 분석 : ['집', '에', '가', '면', '감자', '좀', '찌', '어', '주', 'ㄹ래', '?']\n",
      "hannanum 형태소 분석 : ['집', '에', '가', '면', '감', '자', '좀', '찌', '어', '줄', '래', '?']\n",
      "komoran 형태소 분석 : ['집', '에', '가', '면', '감자', '좀', '찌', '어', '주', 'ㄹ래', '?']\n",
      "twitter 형태소 분석 : ['집', '에', '가면', '감자', '좀', '쪄줄래', '?']\n"
     ]
    }
   ],
   "source": [
    "print(\"okt 형태소 분석 :\", okt.morphs(\"집에 가면 감자 좀 쪄줄래?\"))\n",
    "print(\"kkma 형태소 분석 :\", kkma.morphs(\"집에 가면 감자 좀 쪄줄래?\"))                                     \n",
    "print(\"hannanum 형태소 분석 :\", hannanum.morphs(\"집에 가면 감자 좀 쪄줄래?\"))\n",
    "print(\"komoran 형태소 분석 :\", komoran.morphs(\"집에 가면 감자 좀 쪄줄래?\"))\n",
    "print(\"twitter 형태소 분석 :\", twitter.morphs(\"집에 가면 감자 좀 쪄줄래?\"))\n"
   ]
  },
  {
   "cell_type": "code",
   "execution_count": null,
   "id": "843ea394",
   "metadata": {},
   "outputs": [],
   "source": []
  }
 ],
 "metadata": {
  "kernelspec": {
   "display_name": "Python 3",
   "language": "python",
   "name": "python3"
  },
  "language_info": {
   "codemirror_mode": {
    "name": "ipython",
    "version": 3
   },
   "file_extension": ".py",
   "mimetype": "text/x-python",
   "name": "python",
   "nbconvert_exporter": "python",
   "pygments_lexer": "ipython3",
   "version": "3.8.8"
  }
 },
 "nbformat": 4,
 "nbformat_minor": 5
}
