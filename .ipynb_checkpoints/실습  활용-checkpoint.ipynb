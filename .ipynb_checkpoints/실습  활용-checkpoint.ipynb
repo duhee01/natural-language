{
 "cells": [
  {
   "cell_type": "code",
   "execution_count": null,
   "id": "92f17abb",
   "metadata": {},
   "outputs": [],
   "source": [
    "#긴글 타자연습 txt를 csv로 불러오기"
   ]
  }
 ],
 "metadata": {
  "kernelspec": {
   "display_name": "Python 3",
   "language": "python",
   "name": "python3"
  },
  "language_info": {
   "codemirror_mode": {
    "name": "ipython",
    "version": 3
   },
   "file_extension": ".py",
   "mimetype": "text/x-python",
   "name": "python",
   "nbconvert_exporter": "python",
   "pygments_lexer": "ipython3",
   "version": "3.8.8"
  }
 },
 "nbformat": 4,
 "nbformat_minor": 5
}
